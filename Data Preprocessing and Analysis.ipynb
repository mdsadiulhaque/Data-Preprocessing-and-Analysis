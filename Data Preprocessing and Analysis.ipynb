{
 "cells": [
  {
   "cell_type": "markdown",
   "id": "df3d8062",
   "metadata": {},
   "source": [
    "# Liniare Aljebra"
   ]
  },
  {
   "cell_type": "code",
   "execution_count": 2,
   "id": "a501d4d9",
   "metadata": {},
   "outputs": [],
   "source": [
    "import numpy as np\n",
    "matrix=np.array([[1,2,3],[4,5,6]])\n",
    "vector=np.array([7,9,6])"
   ]
  },
  {
   "cell_type": "code",
   "execution_count": 3,
   "id": "8f293c0b",
   "metadata": {},
   "outputs": [
    {
     "data": {
      "text/plain": [
       "array([[1, 2, 3],\n",
       "       [4, 5, 6]])"
      ]
     },
     "execution_count": 3,
     "metadata": {},
     "output_type": "execute_result"
    }
   ],
   "source": [
    "matrix"
   ]
  },
  {
   "cell_type": "code",
   "execution_count": 4,
   "id": "1038d1af",
   "metadata": {},
   "outputs": [
    {
     "data": {
      "text/plain": [
       "array([7, 9, 6])"
      ]
     },
     "execution_count": 4,
     "metadata": {},
     "output_type": "execute_result"
    }
   ],
   "source": [
    "vector"
   ]
  },
  {
   "cell_type": "code",
   "execution_count": 5,
   "id": "02922ae8",
   "metadata": {},
   "outputs": [
    {
     "data": {
      "text/plain": [
       "array([[4, 5, 6],\n",
       "       [7, 8, 9]])"
      ]
     },
     "execution_count": 5,
     "metadata": {},
     "output_type": "execute_result"
    }
   ],
   "source": [
    "matrix+3"
   ]
  },
  {
   "cell_type": "code",
   "execution_count": 10,
   "id": "4db20ed3",
   "metadata": {},
   "outputs": [
    {
     "name": "stdout",
     "output_type": "stream",
     "text": [
      "a+b=/n [[2 4]\n",
      " [6 8]]\n"
     ]
    }
   ],
   "source": [
    "#++\n",
    "a=np.array([\n",
    "    [1,2],\n",
    "    [3,4]\n",
    "])\n",
    "b=np.array([\n",
    "    [1,2],\n",
    "    [3,4]\n",
    "])\n",
    "print(\"a+b=/n\",a+b)"
   ]
  },
  {
   "cell_type": "code",
   "execution_count": 11,
   "id": "12956bb6",
   "metadata": {},
   "outputs": [
    {
     "name": "stdout",
     "output_type": "stream",
     "text": [
      "a*b=/n [[ 6 12]\n",
      " [10 18]]\n"
     ]
    }
   ],
   "source": [
    "#**\n",
    "\n",
    "a=np.array([\n",
    "    [2,3],[2,3]\n",
    "])\n",
    "b=np.array([\n",
    "    [3,4],[5,6]\n",
    "])\n",
    "\n",
    "print(\"a*b=/n\",a*b)"
   ]
  },
  {
   "cell_type": "code",
   "execution_count": 13,
   "id": "484419b2",
   "metadata": {},
   "outputs": [
    {
     "data": {
      "text/plain": [
       "array([[ 58,  64],\n",
       "       [139, 154]])"
      ]
     },
     "execution_count": 13,
     "metadata": {},
     "output_type": "execute_result"
    }
   ],
   "source": [
    "#dot*\n",
    "m1=np.array([\n",
    "    [1,2,3],[4,5,6]\n",
    "])\n",
    "m2=np.array([\n",
    "    [7,8],[9,10],[11,12]\n",
    "])\n",
    "m1.dot(m2)"
   ]
  },
  {
   "cell_type": "code",
   "execution_count": 14,
   "id": "2217d77b",
   "metadata": {},
   "outputs": [
    {
     "data": {
      "text/plain": [
       "array([[1, 3],\n",
       "       [2, 5],\n",
       "       [0, 9]])"
      ]
     },
     "execution_count": 14,
     "metadata": {},
     "output_type": "execute_result"
    }
   ],
   "source": [
    "#Transport Matrix\n",
    "A=np.array([[1,2,0],\n",
    "          [3,5,9]])\n",
    "A.T"
   ]
  },
  {
   "cell_type": "code",
   "execution_count": 15,
   "id": "799a922d",
   "metadata": {},
   "outputs": [
    {
     "name": "stdout",
     "output_type": "stream",
     "text": [
      "[[-5 -3 -1]\n",
      " [ 1  3  5]]\n",
      "[[ 5  3  1]\n",
      " [-1 -3 -5]]\n"
     ]
    }
   ],
   "source": [
    "#Negative Matrix\n",
    "C=np.array([[-5,-3,-1],\n",
    "          [1,3,5]])\n",
    "print(C)\n",
    "print(-C)"
   ]
  },
  {
   "cell_type": "code",
   "execution_count": 16,
   "id": "291bc790",
   "metadata": {},
   "outputs": [
    {
     "data": {
      "text/plain": [
       "array([[1., 0., 0.],\n",
       "       [0., 1., 0.],\n",
       "       [0., 0., 1.]])"
      ]
     },
     "execution_count": 16,
     "metadata": {},
     "output_type": "execute_result"
    }
   ],
   "source": [
    "#identity Matrix\n",
    "I=np.identity(3)\n",
    "I"
   ]
  },
  {
   "cell_type": "code",
   "execution_count": 17,
   "id": "f4b4f84f",
   "metadata": {},
   "outputs": [
    {
     "name": "stdout",
     "output_type": "stream",
     "text": [
      "[[ 0.2 -0.2]\n",
      " [-0.1  0.6]]\n"
     ]
    }
   ],
   "source": [
    "#Invers Matrix\n",
    "D=np.array([[6,2],\n",
    "          [1,2]])\n",
    "print(np.linalg.inv(D))"
   ]
  },
  {
   "cell_type": "code",
   "execution_count": 18,
   "id": "7fef7e0b",
   "metadata": {},
   "outputs": [
    {
     "name": "stdout",
     "output_type": "stream",
     "text": [
      "Determinant: -2235.999999999998\n"
     ]
    }
   ],
   "source": [
    "#Determinant\n",
    "a=np.array([[28,18,8],[72,19,38],[81,24,44]])\n",
    "b=np.linalg.det(a)\n",
    "print('Determinant:',b)"
   ]
  },
  {
   "cell_type": "code",
   "execution_count": 19,
   "id": "b1d9c653",
   "metadata": {},
   "outputs": [
    {
     "name": "stdout",
     "output_type": "stream",
     "text": [
      "Eigen Value\n",
      " [13.60405743+0.j         -1.30202872+0.85467427j -1.30202872-0.85467427j]\n",
      "Eigen Vector\n",
      " [[ 0.27290581+0.j          0.48002115+0.29391132j  0.48002115-0.29391132j]\n",
      " [ 0.63242049+0.j          0.39363982-0.13316529j  0.39363982+0.13316529j]\n",
      " [ 0.72495983+0.j         -0.71450019+0.j         -0.71450019-0.j        ]]\n"
     ]
    }
   ],
   "source": [
    "#Eigen Vector & Eigen Values\n",
    "M=np.array([[1,2,3],[4,5,6],[2,9,5]])\n",
    "eigvals,eigvecs=np.linalg.eig(M)\n",
    "print(\"Eigen Value\\n\",eigvals)\n",
    "print(\"Eigen Vector\\n\",eigvecs)"
   ]
  },
  {
   "cell_type": "code",
   "execution_count": null,
   "id": "45304ec8",
   "metadata": {},
   "outputs": [],
   "source": []
  }
 ],
 "metadata": {
  "kernelspec": {
   "display_name": "Python 3 (ipykernel)",
   "language": "python",
   "name": "python3"
  },
  "language_info": {
   "codemirror_mode": {
    "name": "ipython",
    "version": 3
   },
   "file_extension": ".py",
   "mimetype": "text/x-python",
   "name": "python",
   "nbconvert_exporter": "python",
   "pygments_lexer": "ipython3",
   "version": "3.9.13"
  }
 },
 "nbformat": 4,
 "nbformat_minor": 5
}
